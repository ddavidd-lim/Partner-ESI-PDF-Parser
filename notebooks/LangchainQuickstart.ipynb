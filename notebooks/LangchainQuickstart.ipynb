{
 "cells": [
  {
   "cell_type": "markdown",
   "id": "7764df16-3564-439a-8401-132b0a7dca4c",
   "metadata": {},
   "source": [
    "## PDF Parsing"
   ]
  },
  {
   "cell_type": "code",
   "execution_count": 67,
   "id": "a9195697-91cc-4a16-99eb-3af0dfe77130",
   "metadata": {},
   "outputs": [],
   "source": [
    "import sys\n",
    "sys.path.append('../src/')\n",
    "import ReadPDF as r"
   ]
  },
  {
   "cell_type": "code",
   "execution_count": 68,
   "id": "ea4aa73b-466e-4134-b6c2-f87bd72aef77",
   "metadata": {},
   "outputs": [],
   "source": [
    "# Extract by Section\n",
    "pdf_path = \"4444_East.pdf\"\n",
    "sections = r.process_into_sections(pdf_path)\n",
    "sections_text = r.select_Section(sections, 2)\n",
    "one_section = '\\n'.join(sections[1].text)"
   ]
  },
  {
   "cell_type": "code",
   "execution_count": 69,
   "id": "ae8356bf-3228-4801-aba7-6b7372e27a31",
   "metadata": {},
   "outputs": [
    {
     "name": "stdout",
     "output_type": "stream",
     "text": [
      "The subject property at 4444 East 26th Street, Vernon, California is located on the southwestern intersection of East 26th Street and Ayers Avenue.  The subject property was inspected by Joseph Kim of Partner on October 28, 2021.  The weather at the time of the site visit was sunny and in the mid-70s (degrees Fahrenheit). According to the Los Angeles County Assessor, the subject property is legally described as OM 3-19-27 EX OF R/W AND STS LOT 3 DIV 105 REG 48 and is owned by LBA RVI – Company VIII, LLC. Please refer to Figure 1: Site Location Map, Figure 2: Site Plan, Figure 3: Topographic Map, and Appendix A: Site Photographs for the location and site characteristics of the subject property.\n"
     ]
    }
   ],
   "source": [
    "# Extract by Subsection\n",
    "subsection_dict = r.process_file(pdf_path)\n",
    "one_subsection = r.select_Subsection(subsection_dict, 2, 1)\n",
    "print(one_subsection)"
   ]
  },
  {
   "cell_type": "markdown",
   "id": "8588536e-a29d-467a-b648-156a87dd62e6",
   "metadata": {},
   "source": [
    "## LLM Setup + Prompt"
   ]
  },
  {
   "cell_type": "code",
   "execution_count": 142,
   "id": "67a7d0e7-2a8a-4c90-8294-1aeccf642b05",
   "metadata": {},
   "outputs": [],
   "source": [
    "from langchain_community.llms import Ollama\n",
    "llm = Ollama(model=\"phi\", temperature=0, num_predict=40, top_k=5, top_p=5, mirostat_tau=0, format=\"json\")"
   ]
  },
  {
   "cell_type": "code",
   "execution_count": 152,
   "id": "0befcd62-2d8d-4b7c-9641-5b962a337d2f",
   "metadata": {},
   "outputs": [],
   "source": [
    "from langchain_core.output_parsers import StrOutputParser\n",
    "from langchain_core.output_parsers import JsonOutputParser\n",
    "\n",
    "output_parser = StrOutputParser()\n",
    "json_parser = JsonOutputParser()"
   ]
  },
  {
   "cell_type": "code",
   "execution_count": 154,
   "id": "6d1df855-322c-44a2-89a5-f8b06824372a",
   "metadata": {},
   "outputs": [
    {
     "name": "stdout",
     "output_type": "stream",
     "text": [
      "CPU times: total: 0 ns\n",
      "Wall time: 1 ms\n"
     ]
    }
   ],
   "source": [
    "%%time\n",
    "from langchain.chains.combine_documents import create_stuff_documents_chain\n",
    "from langchain_core.prompts import PromptTemplate\n",
    "\n",
    "prompt = PromptTemplate.from_template(\"\"\"Retrieve the datafield defined in input within the context given.\n",
    "Anything legal can be found in the context.\n",
    "If you cannot answer the question with the context, respond with N/A.\n",
    "\n",
    "<context>\n",
    "{context}\n",
    "</context>\n",
    "\n",
    "{input} is the datafield to search for.\n",
    "Simply respond with only the answer that matches the datafield.\n",
    "Do not include the datafield in your response.\n",
    "\"\"\")\n",
    "\n",
    "document_chain = create_stuff_documents_chain(llm, prompt, output_parser=json_parser)"
   ]
  },
  {
   "cell_type": "markdown",
   "id": "6c424268-844e-48b5-be13-d45a30688304",
   "metadata": {},
   "source": [
    "## Responses"
   ]
  },
  {
   "cell_type": "code",
   "execution_count": 155,
   "id": "e0b02188-c5af-4895-b1a5-f24eb5c00121",
   "metadata": {
    "scrolled": true
   },
   "outputs": [
    {
     "name": "stdout",
     "output_type": "stream",
     "text": [
      "CPU times: total: 31.2 ms\n",
      "Wall time: 19.9 s\n"
     ]
    },
    {
     "data": {
      "text/plain": [
       "{'name': 'Los Angeles County Assessor',\n",
       " 'agency': 'Los Angeles County Assessor'}"
      ]
     },
     "execution_count": 155,
     "metadata": {},
     "output_type": "execute_result"
    }
   ],
   "source": [
    "%%time\n",
    "from langchain_core.documents import Document\n",
    "\n",
    "document_chain.invoke({\n",
    "    \"input\": \"Name of Assessor/Appraisal District Agency\",\n",
    "    \"context\": [Document(page_content=one_subsection)]\n",
    "})"
   ]
  },
  {
   "cell_type": "code",
   "execution_count": 156,
   "id": "172f986b-d3d1-4e55-96db-0031ad4b4870",
   "metadata": {},
   "outputs": [
    {
     "name": "stdout",
     "output_type": "stream",
     "text": [
      "CPU times: total: 15.6 ms\n",
      "Wall time: 6.9 s\n"
     ]
    },
    {
     "data": {
      "text/plain": [
       "{'property_legal_description': 'OM 3-19-27 EX OF R/W AND STS LOT 3 DIV 105 REG 48'}"
      ]
     },
     "execution_count": 156,
     "metadata": {},
     "output_type": "execute_result"
    }
   ],
   "source": [
    "%%time\n",
    "from langchain_core.documents import Document\n",
    "\n",
    "document_chain.invoke({\n",
    "    \"input\": \"Property Legal Description\",\n",
    "    \"context\": [Document(page_content=one_subsection)]\n",
    "})"
   ]
  },
  {
   "cell_type": "code",
   "execution_count": 157,
   "id": "f65af6fc-3b56-4189-879b-62ef868b747e",
   "metadata": {},
   "outputs": [
    {
     "name": "stdout",
     "output_type": "stream",
     "text": [
      "CPU times: total: 46.9 ms\n",
      "Wall time: 5.52 s\n"
     ]
    },
    {
     "data": {
      "text/plain": [
       "{'property_owner': 'LBA RVI – Company VIII, LLC'}"
      ]
     },
     "execution_count": 157,
     "metadata": {},
     "output_type": "execute_result"
    }
   ],
   "source": [
    "%%time\n",
    "from langchain_core.documents import Document\n",
    "\n",
    "document_chain.invoke({\n",
    "    \"input\": \"Property Owner Name\",\n",
    "    \"context\": [Document(page_content=one_subsection)]\n",
    "})"
   ]
  },
  {
   "cell_type": "code",
   "execution_count": 148,
   "id": "3963771d-9909-4ade-b7fb-67f3ae8cf726",
   "metadata": {},
   "outputs": [
    {
     "name": "stdout",
     "output_type": "stream",
     "text": [
      "CPU times: total: 31.2 ms\n",
      "Wall time: 6.5 s\n"
     ]
    },
    {
     "data": {
      "text/plain": [
       "'{\\n  \"data\": {\\n    \"property_name\": \"OM 3-19-27 EX OF R/W AND STS LOT 3 DIV 105 REG 48\",\\n'"
      ]
     },
     "execution_count": 148,
     "metadata": {},
     "output_type": "execute_result"
    }
   ],
   "source": [
    "%%time\n",
    "from langchain_core.documents import Document\n",
    "\n",
    "document_chain.invoke({\n",
    "    \"input\": \"When did the owner acquire the property?\",\n",
    "    \"context\": [Document(page_content=one_subsection)]\n",
    "})"
   ]
  },
  {
   "cell_type": "code",
   "execution_count": 149,
   "id": "48066fe2-4283-4a94-80ff-ba05ab748cca",
   "metadata": {},
   "outputs": [
    {
     "name": "stdout",
     "output_type": "stream",
     "text": [
      "CPU times: total: 15.6 ms\n",
      "Wall time: 5.94 s\n"
     ]
    },
    {
     "data": {
      "text/plain": [
       "'{\"source\": \"LBA RVI – Company VIII, LLC\", \"acquisition_date\": \"October 28, 2021\"}\\n'"
      ]
     },
     "execution_count": 149,
     "metadata": {},
     "output_type": "execute_result"
    }
   ],
   "source": [
    "%%time\n",
    "from langchain_core.documents import Document\n",
    "\n",
    "document_chain.invoke({\n",
    "    \"input\": \"What was the source of the property owner name and acquisition date?\",\n",
    "    \"context\": [Document(page_content=one_subsection)]\n",
    "})"
   ]
  },
  {
   "cell_type": "code",
   "execution_count": null,
   "id": "783b12e7-7f09-4068-ba7b-2622d4b4bf11",
   "metadata": {},
   "outputs": [],
   "source": []
  }
 ],
 "metadata": {
  "kernelspec": {
   "display_name": "Python 3 (ipykernel)",
   "language": "python",
   "name": "python3"
  },
  "language_info": {
   "codemirror_mode": {
    "name": "ipython",
    "version": 3
   },
   "file_extension": ".py",
   "mimetype": "text/x-python",
   "name": "python",
   "nbconvert_exporter": "python",
   "pygments_lexer": "ipython3",
   "version": "3.8.2"
  }
 },
 "nbformat": 4,
 "nbformat_minor": 5
}
