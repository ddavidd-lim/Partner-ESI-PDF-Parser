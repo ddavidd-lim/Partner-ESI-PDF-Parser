{
 "cells": [
  {
   "cell_type": "markdown",
   "id": "7764df16-3564-439a-8401-132b0a7dca4c",
   "metadata": {},
   "source": [
    "## PDF Parsing"
   ]
  },
  {
   "cell_type": "code",
   "execution_count": 1,
   "id": "a9195697-91cc-4a16-99eb-3af0dfe77130",
   "metadata": {},
   "outputs": [
    {
     "name": "stdout",
     "output_type": "stream",
     "text": [
      "/Users/natalieperrochon/CS180/new_clone/Partner-ESI-ML-Report\n",
      "/Users/natalieperrochon/CS180/new_clone/Partner-ESI-ML-Report/src/mapping.py\n"
     ]
    }
   ],
   "source": [
    "import sys\n",
    "import os \n",
    "print(os.getcwd())\n",
    "\n",
    "#sys.path.append('../src/')\n",
    "#import src.ReadPDF as pdf_reader\n",
    "import src.mapping as mapping\n",
    "print(mapping.__file__)\n",
    "# print(mapping in globals())\n",
    "#sys.path.append('../src/classes')\n",
    "import src.classes\n",
    "from src.classes.PDFReader import PDFReader as pdf_reader\n",
    "#import inspect\n",
    "#print(inspect.getmodule(pdf_reader))\n",
    "#print(sys.path)\n",
    "from src.classes.Prompter import Prompter\n",
    "#print(inspect.getmodule(Prompter))\n",
    "import importlib\n",
    "#print(dir(sys.modules))\n",
    "#importlib.reload(pdf_reader)\n",
    "# importlib.reload(ReadPDF)\n"
   ]
  },
  {
   "cell_type": "code",
   "execution_count": 2,
   "id": "98a7a9fc-191b-42f5-a66c-1cd0ae8923e1",
   "metadata": {},
   "outputs": [
    {
     "name": "stdout",
     "output_type": "stream",
     "text": [
      "True\n"
     ]
    },
    {
     "data": {
      "text/plain": [
       "<module 'src.classes.PDFReader' from '/Users/natalieperrochon/CS180/new_clone/Partner-ESI-ML-Report/src/classes/PDFReader.py'>"
      ]
     },
     "execution_count": 2,
     "metadata": {},
     "output_type": "execute_result"
    }
   ],
   "source": [
    "print('src.classes.PDFReader' in sys.modules)\n",
    "for key in sorted(sys.modules):\n",
    "    #print(type(key))\n",
    "    pass\n",
    "#importlib.reload(pdf_reader)\n",
    "importlib.reload(src.classes.PDFReader)\n",
    "#importlib.reload(pdf_reader)"
   ]
  },
  {
   "cell_type": "code",
   "execution_count": 3,
   "id": "ea4aa73b-466e-4134-b6c2-f87bd72aef77",
   "metadata": {},
   "outputs": [],
   "source": [
    "# Extract by Section\n",
    "#pdf_path = \"20-301704.3.pdf\" # ESA BL Data row 5736 - 6666\n",
    "pdf_path = \"4444_East.pdf\" # ESA BL Data row 5736 - 6666"
   ]
  },
  {
   "cell_type": "code",
   "execution_count": 4,
   "id": "e070764d-5590-4630-aec8-f3c9a28bfc8b",
   "metadata": {},
   "outputs": [],
   "source": [
    "pdf_path2 = \"20-301704.3.pdf\" # ESA BL Data row 5736 - 6666\n"
   ]
  },
  {
   "cell_type": "code",
   "execution_count": 5,
   "id": "ae8356bf-3228-4801-aba7-6b7372e27a31",
   "metadata": {
    "scrolled": true
   },
   "outputs": [
    {
     "name": "stdout",
     "output_type": "stream",
     "text": [
      "here\n",
      "/Users/natalieperrochon/CS180/new_clone/Partner-ESI-ML-Report/src/classes/../../data/raw/4444_East.pdf\n",
      "extracing by section .......................................................................................\n"
     ]
    }
   ],
   "source": [
    "# Extract by Subsection\n",
    "subsection_dict = pdf_reader().process_file(pdf_path)\n",
    "#print(subsection_dict.keys()) #['1'][0].display_text())\n",
    "#one_subsection = pdf_reader().extract_subsections(subsection_dict, 1, 1)\n",
    "#print(one_subsection)"
   ]
  },
  {
   "cell_type": "code",
   "execution_count": 6,
   "id": "14ecc17e-c234-432a-b655-0852d9bec75b",
   "metadata": {},
   "outputs": [
    {
     "name": "stdout",
     "output_type": "stream",
     "text": [
      "here\n",
      "/Users/natalieperrochon/CS180/new_clone/Partner-ESI-ML-Report/src/classes/../../data/raw/20-301704.3.pdf\n",
      "extracing by section .......................................................................................\n"
     ]
    }
   ],
   "source": [
    "subsection_dict = pdf_reader().process_file(pdf_path2)\n"
   ]
  },
  {
   "cell_type": "code",
   "execution_count": 7,
   "id": "a395b516-a2a6-4fb6-bf75-88b4db3f0ef3",
   "metadata": {},
   "outputs": [
    {
     "name": "stdout",
     "output_type": "stream",
     "text": [
      "here\n",
      "/Users/natalieperrochon/CS180/new_clone/Partner-ESI-ML-Report/src/classes/../../data/raw/4444_East.pdf\n",
      "extracing by section .......................................................................................\n"
     ]
    }
   ],
   "source": [
    "# Extract by Subsection\n",
    "parser = pdf_reader()\n",
    "subsection_dict = parser.process_file(pdf_path)\n",
    "#subsection_dict"
   ]
  },
  {
   "cell_type": "markdown",
   "id": "8588536e-a29d-467a-b648-156a87dd62e6",
   "metadata": {},
   "source": [
    "## LLM Setup + Prompt"
   ]
  },
  {
   "cell_type": "code",
   "execution_count": 8,
   "id": "374c8def-730b-4ac1-a4a2-9febae4c01ce",
   "metadata": {},
   "outputs": [],
   "source": [
    "prompter = Prompter()"
   ]
  },
  {
   "cell_type": "code",
   "execution_count": 9,
   "id": "db9d154a-5450-4656-893d-f6aa4d34430b",
   "metadata": {},
   "outputs": [
    {
     "name": "stdout",
     "output_type": "stream",
     "text": [
      "An error occurred: [Errno 2] No such file or directory: '/Users/natalieperrochon/CS180/new_clone/Partner-ESI-ML-Report/../data/raw/PCA_FIELDS.xlsx'\n"
     ]
    },
    {
     "ename": "TypeError",
     "evalue": "'NoneType' object is not subscriptable",
     "output_type": "error",
     "traceback": [
      "\u001b[0;31m---------------------------------------------------------------------------\u001b[0m",
      "\u001b[0;31mTypeError\u001b[0m                                 Traceback (most recent call last)",
      "File \u001b[0;32m<timed exec>:2\u001b[0m\n",
      "File \u001b[0;32m~/CS180/new_clone/Partner-ESI-ML-Report/src/mapping.py:134\u001b[0m, in \u001b[0;36mexecute\u001b[0;34m()\u001b[0m\n\u001b[1;32m    132\u001b[0m excel_file \u001b[38;5;241m=\u001b[39m \u001b[38;5;124m'\u001b[39m\u001b[38;5;124mPCA_FIELDS.xlsx\u001b[39m\u001b[38;5;124m'\u001b[39m\n\u001b[1;32m    133\u001b[0m df \u001b[38;5;241m=\u001b[39m xlsxToDf(excel_file)\n\u001b[0;32m--> 134\u001b[0m sections \u001b[38;5;241m=\u001b[39m \u001b[43mcreateSections\u001b[49m\u001b[43m(\u001b[49m\u001b[43mdf\u001b[49m\u001b[43m)\u001b[49m\n\u001b[1;32m    135\u001b[0m \u001b[38;5;28;01mreturn\u001b[39;00m sections\n",
      "File \u001b[0;32m~/CS180/new_clone/Partner-ESI-ML-Report/src/mapping.py:91\u001b[0m, in \u001b[0;36mcreateSections\u001b[0;34m(df)\u001b[0m\n\u001b[1;32m     81\u001b[0m \u001b[38;5;28;01mdef\u001b[39;00m \u001b[38;5;21mcreateSections\u001b[39m(df: pd\u001b[38;5;241m.\u001b[39mDataFrame) \u001b[38;5;241m-\u001b[39m\u001b[38;5;241m>\u001b[39m \u001b[38;5;124m'\u001b[39m\u001b[38;5;124msfm.SectionFieldsMap\u001b[39m\u001b[38;5;124m'\u001b[39m:\n\u001b[1;32m     82\u001b[0m \u001b[38;5;250m    \u001b[39m\u001b[38;5;124;03m'''\u001b[39;00m\n\u001b[1;32m     83\u001b[0m \u001b[38;5;124;03m    Generates dictionary containing all sections in ESA reports and their data.\u001b[39;00m\n\u001b[1;32m     84\u001b[0m \n\u001b[0;32m   (...)\u001b[0m\n\u001b[1;32m     89\u001b[0m \u001b[38;5;124;03m        sfm.SectionFieldsMap: Object with dictionary mapping {subsection_num: {field: descript.}}} for all subsections.\u001b[39;00m\n\u001b[1;32m     90\u001b[0m \u001b[38;5;124;03m    '''\u001b[39;00m\n\u001b[0;32m---> 91\u001b[0m     esa_df \u001b[38;5;241m=\u001b[39m df[\u001b[43mdf\u001b[49m\u001b[43m[\u001b[49m\u001b[38;5;124;43m'\u001b[39;49m\u001b[38;5;124;43mBool convert mc commas\u001b[39;49m\u001b[38;5;124;43m'\u001b[39;49m\u001b[43m]\u001b[49m \u001b[38;5;241m==\u001b[39m \u001b[38;5;124m'\u001b[39m\u001b[38;5;124mEsaReportField\u001b[39m\u001b[38;5;124m'\u001b[39m]\n\u001b[1;32m     92\u001b[0m     sub_df \u001b[38;5;241m=\u001b[39m esa_df[\u001b[38;5;124m'\u001b[39m\u001b[38;5;124mSection Reference\u001b[39m\u001b[38;5;124m'\u001b[39m]\u001b[38;5;241m.\u001b[39mdropna()\n\u001b[1;32m     93\u001b[0m     \u001b[38;5;66;03m#section_set = set(sub_df)\u001b[39;00m\n",
      "\u001b[0;31mTypeError\u001b[0m: 'NoneType' object is not subscriptable"
     ]
    }
   ],
   "source": [
    "%%time\n",
    "#response = prompter.invoke('Name of Assessor/Appraisal District Agency', one_subsection)\n",
    "datafields = mapping.execute()\n",
    "#datafields.items()\n",
    "# for subsection in sorted(datafields.items()):\n",
    "#     print(f\"-----------Section_num: {subsection}--------\")\n",
    "#     print(subsection, datafields.get_section_fields(subsection))\n",
    "    \n",
    "    # response = prompter.invoke(datafields[subsection.items()[1], \n",
    "#print(response)"
   ]
  },
  {
   "cell_type": "code",
   "execution_count": 43,
   "id": "b92c009b-f6e4-4b2c-b137-756477bfb362",
   "metadata": {},
   "outputs": [],
   "source": [
    "#datafields"
   ]
  },
  {
   "cell_type": "code",
   "execution_count": 11,
   "id": "67a7d0e7-2a8a-4c90-8294-1aeccf642b05",
   "metadata": {},
   "outputs": [],
   "source": [
    "from langchain_community.llms import Ollama\n",
    "llm = Ollama(model=\"phi\", temperature=0, num_predict=40, top_k=5, top_p=.5, mirostat_tau=0, format=\"json\")"
   ]
  },
  {
   "cell_type": "code",
   "execution_count": 12,
   "id": "0befcd62-2d8d-4b7c-9641-5b962a337d2f",
   "metadata": {},
   "outputs": [],
   "source": [
    "from langchain_core.output_parsers import StrOutputParser\n",
    "from langchain_core.output_parsers import JsonOutputParser\n",
    "\n",
    "output_parser = StrOutputParser()\n",
    "json_parser = JsonOutputParser()"
   ]
  },
  {
   "cell_type": "code",
   "execution_count": 13,
   "id": "6d1df855-322c-44a2-89a5-f8b06824372a",
   "metadata": {},
   "outputs": [
    {
     "name": "stdout",
     "output_type": "stream",
     "text": [
      "CPU times: user 465 µs, sys: 7 µs, total: 472 µs\n",
      "Wall time: 490 µs\n"
     ]
    }
   ],
   "source": [
    "%%time\n",
    "from langchain.chains.combine_documents import create_stuff_documents_chain\n",
    "from langchain_core.prompts import PromptTemplate\n",
    "\n",
    "prompt = PromptTemplate.from_template(\"\"\"Retrieve the datafield defined in input within the context given.\n",
    "Anything legal can be found in the context.\n",
    "If you cannot answer the question with the context, respond with N/A.\n",
    "\n",
    "<context>\n",
    "{context}\n",
    "</context>\n",
    "\n",
    "{input} is the key in the dictionary where the value is the prompt for the datafield.\n",
    "Simply respond with only the answer that matches the datafield.\n",
    "There must only be one JSON object.\n",
    "Do not include the datafield in your response. Keep the key for the json exactly the same as the input.\n",
    "\"\"\")\n",
    "\n",
    "document_chain = create_stuff_documents_chain(llm, prompt, output_parser=json_parser)"
   ]
  },
  {
   "cell_type": "markdown",
   "id": "6c424268-844e-48b5-be13-d45a30688304",
   "metadata": {},
   "source": [
    "## Responses"
   ]
  },
  {
   "cell_type": "code",
   "execution_count": 14,
   "id": "3108c5f0-934d-428f-9c30-a8794a71b032",
   "metadata": {},
   "outputs": [],
   "source": [
    "fields_dict = {'ets_2p_32a': 'Name of Assessor/Appraisal District Agency', \n",
    "               'ets_2p_33a': 'Property Legal Description', \n",
    "               'ets_2p_34a': 'Property Owner Name'}\n",
    "#               'ets_2p_35a': \"When did the owner acquire the property?\",\n",
    " #              \"ets_2p_36a\": \"What was the source of the property owner name and acquisition date?\"}"
   ]
  },
  {
   "cell_type": "code",
   "execution_count": 15,
   "id": "fb30690d-06fc-4dd7-b73e-7c4600b45ea9",
   "metadata": {
    "scrolled": true
   },
   "outputs": [],
   "source": [
    "#mappings = mapping.execute()"
   ]
  },
  {
   "cell_type": "code",
   "execution_count": 16,
   "id": "80eaa38a-79a7-4243-bfae-330eda7bd40b",
   "metadata": {
    "scrolled": true
   },
   "outputs": [],
   "source": [
    "#mappings\n",
    "# {subsection_num: {field: question}}"
   ]
  },
  {
   "cell_type": "code",
   "execution_count": 17,
   "id": "e0b02188-c5af-4895-b1a5-f24eb5c00121",
   "metadata": {
    "scrolled": true
   },
   "outputs": [
    {
     "ename": "NameError",
     "evalue": "name 'datafields' is not defined",
     "output_type": "error",
     "traceback": [
      "\u001b[0;31m---------------------------------------------------------------------------\u001b[0m",
      "\u001b[0;31mNameError\u001b[0m                                 Traceback (most recent call last)",
      "File \u001b[0;32m<timed exec>:3\u001b[0m\n",
      "\u001b[0;31mNameError\u001b[0m: name 'datafields' is not defined"
     ]
    }
   ],
   "source": [
    "%%time\n",
    "from langchain_core.documents import Document\n",
    "answers_dict = {}\n",
    "for items in datafields.items():\n",
    "    try:\n",
    "        item = {items[0]: items[1]}\n",
    "    except Exception as e:\n",
    "        print('ERROR')\n",
    "        print(items)\n",
    "        print(e)\n",
    "        print()\n",
    "    # print(type(item))\n",
    "    #print(item)\n",
    "    # print()\n",
    "    for subsection in item:\n",
    "        for field in item[subsection]:\n",
    "            # print(field)\n",
    "            # print(item[subsection][field])\n",
    "            # for key in subsection_dict.keys():\n",
    "            #     print('.' + key + '.')\n",
    "            #     print(type(key))\n",
    "                \n",
    "            print(subsection_dict.keys())\n",
    "            print(' 3' in subsection_dict.keys())\n",
    "            print(item[subsection][field])\n",
    "            subsection_context = pdf_reader.select_Subsection(subsection_dict, int(subsection[0]), subsection) #ERROR \n",
    "            output_dict = document_chain.invoke({\n",
    "                \"input\": item[subsection][field],\n",
    "                \"context\": [Document(page_content=subsection_context)]\n",
    "            })\n",
    "            key = field\n",
    "            print(output_dict)\n",
    "            print(output_dict.keys[0])\n",
    "            #answers_dict[field] = output_dict[item[subsection][field]]\n",
    "            #print(answers_dict[field])\n",
    "print(answers_dict)"
   ]
  },
  {
   "cell_type": "code",
   "execution_count": 18,
   "id": "172f986b-d3d1-4e55-96db-0031ad4b4870",
   "metadata": {},
   "outputs": [
    {
     "ename": "NameError",
     "evalue": "name 'one_subsection' is not defined",
     "output_type": "error",
     "traceback": [
      "\u001b[0;31m---------------------------------------------------------------------------\u001b[0m",
      "\u001b[0;31mNameError\u001b[0m                                 Traceback (most recent call last)",
      "File \u001b[0;32m<timed exec>:5\u001b[0m\n",
      "\u001b[0;31mNameError\u001b[0m: name 'one_subsection' is not defined"
     ]
    }
   ],
   "source": [
    "%%time\n",
    "from langchain_core.documents import Document\n",
    "\n",
    "print(type(document_chain.invoke({\n",
    "    \"input\": \"Property Legal Description\",\n",
    "    \"context\": [Document(page_content=one_subsection)]\n",
    "})))"
   ]
  },
  {
   "cell_type": "code",
   "execution_count": 19,
   "id": "f65af6fc-3b56-4189-879b-62ef868b747e",
   "metadata": {},
   "outputs": [
    {
     "ename": "NameError",
     "evalue": "name 'one_subsection' is not defined",
     "output_type": "error",
     "traceback": [
      "\u001b[0;31m---------------------------------------------------------------------------\u001b[0m",
      "\u001b[0;31mNameError\u001b[0m                                 Traceback (most recent call last)",
      "File \u001b[0;32m<timed exec>:5\u001b[0m\n",
      "\u001b[0;31mNameError\u001b[0m: name 'one_subsection' is not defined"
     ]
    }
   ],
   "source": [
    "%%time\n",
    "from langchain_core.documents import Document\n",
    "\n",
    "document_chain.invoke({\n",
    "    \"input\": \"Property Owner Name\",\n",
    "    \"context\": [Document(page_content=one_subsection)]\n",
    "})"
   ]
  },
  {
   "cell_type": "code",
   "execution_count": null,
   "id": "3963771d-9909-4ade-b7fb-67f3ae8cf726",
   "metadata": {},
   "outputs": [],
   "source": [
    "%%time\n",
    "from langchain_core.documents import Document\n",
    "\n",
    "document_chain.invoke({\n",
    "    \"input\": \"When did the owner acquire the property?\",\n",
    "    \"context\": [Document(page_content=one_subsection)]\n",
    "})"
   ]
  },
  {
   "cell_type": "code",
   "execution_count": null,
   "id": "48066fe2-4283-4a94-80ff-ba05ab748cca",
   "metadata": {},
   "outputs": [],
   "source": [
    "%%time\n",
    "from langchain_core.documents import Document\n",
    "\n",
    "document_chain.invoke({\n",
    "    \"input\": \"What was the source of the property owner name and acquisition date?\",\n",
    "    \"context\": [Document(page_content=one_subsection)]\n",
    "})"
   ]
  },
  {
   "cell_type": "code",
   "execution_count": null,
   "id": "783b12e7-7f09-4068-ba7b-2622d4b4bf11",
   "metadata": {},
   "outputs": [],
   "source": []
  },
  {
   "cell_type": "code",
   "execution_count": null,
   "id": "d27b2a04-377d-4a85-9373-27d49d1c17b6",
   "metadata": {},
   "outputs": [],
   "source": []
  }
 ],
 "metadata": {
  "kernelspec": {
   "display_name": "Python 3 (ipykernel)",
   "language": "python",
   "name": "python3"
  },
  "language_info": {
   "codemirror_mode": {
    "name": "ipython",
    "version": 3
   },
   "file_extension": ".py",
   "mimetype": "text/x-python",
   "name": "python",
   "nbconvert_exporter": "python",
   "pygments_lexer": "ipython3",
   "version": "3.11.4"
  }
 },
 "nbformat": 4,
 "nbformat_minor": 5
}
