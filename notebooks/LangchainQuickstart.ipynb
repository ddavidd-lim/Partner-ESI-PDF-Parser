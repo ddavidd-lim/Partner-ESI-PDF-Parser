{
 "cells": [
  {
   "cell_type": "markdown",
   "id": "7764df16-3564-439a-8401-132b0a7dca4c",
   "metadata": {},
   "source": [
    "## PDF Parsing"
   ]
  },
  {
   "cell_type": "code",
   "execution_count": 1,
   "id": "a9195697-91cc-4a16-99eb-3af0dfe77130",
   "metadata": {},
   "outputs": [],
   "source": [
    "import sys\n",
    "sys.path.append('../src/')\n",
    "import ReadPDF as r"
   ]
  },
  {
   "cell_type": "code",
   "execution_count": 2,
   "id": "ea4aa73b-466e-4134-b6c2-f87bd72aef77",
   "metadata": {},
   "outputs": [],
   "source": [
    "# Extract by Section\n",
    "pdf_path = \"4444_East.pdf\"\n",
    "sections = r.process_into_sections(pdf_path)\n",
    "sections_text = r.select_Section(sections, 2)\n",
    "one_section = '\\n'.join(sections[1].text)"
   ]
  },
  {
   "cell_type": "code",
   "execution_count": 3,
   "id": "ae8356bf-3228-4801-aba7-6b7372e27a31",
   "metadata": {},
   "outputs": [
    {
     "name": "stdout",
     "output_type": "stream",
     "text": [
      "The subject property at 4444 East 26th Street, Vernon, California is located on the southwestern intersection of East 26th Street and Ayers Avenue.  The subject property was inspected by Joseph Kim of Partner on October 28, 2021.  The weather at the time of the site visit was sunny and in the mid-70s (degrees Fahrenheit). According to the Los Angeles County Assessor, the subject property is legally described as OM 3-19-27 EX OF R/W AND STS LOT 3 DIV 105 REG 48 and is owned by LBA RVI – Company VIII, LLC. Please refer to Figure 1: Site Location Map, Figure 2: Site Plan, Figure 3: Topographic Map, and Appendix A: Site Photographs for the location and site characteristics of the subject property.\n"
     ]
    }
   ],
   "source": [
    "# Extract by Subsection\n",
    "subsection_dict = r.process_file(pdf_path)\n",
    "one_subsection = r.select_Subsection(subsection_dict, 2, 1)\n",
    "print(one_subsection)"
   ]
  },
  {
   "cell_type": "markdown",
   "id": "8588536e-a29d-467a-b648-156a87dd62e6",
   "metadata": {},
   "source": [
    "## LLM Prompting"
   ]
  },
  {
   "cell_type": "code",
   "execution_count": 4,
   "id": "67a7d0e7-2a8a-4c90-8294-1aeccf642b05",
   "metadata": {},
   "outputs": [],
   "source": [
    "from langchain_community.llms import Ollama\n",
    "llm = Ollama(model=\"phi\")"
   ]
  },
  {
   "cell_type": "code",
   "execution_count": 5,
   "id": "0befcd62-2d8d-4b7c-9641-5b962a337d2f",
   "metadata": {},
   "outputs": [],
   "source": [
    "from langchain_core.output_parsers import StrOutputParser\n",
    "\n",
    "output_parser = StrOutputParser()"
   ]
  },
  {
   "cell_type": "code",
   "execution_count": 6,
   "id": "6d1df855-322c-44a2-89a5-f8b06824372a",
   "metadata": {},
   "outputs": [
    {
     "name": "stdout",
     "output_type": "stream",
     "text": [
      "CPU times: total: 812 ms\n",
      "Wall time: 867 ms\n"
     ]
    }
   ],
   "source": [
    "%%time\n",
    "from langchain.chains.combine_documents import create_stuff_documents_chain\n",
    "from langchain_core.prompts import PromptTemplate\n",
    "\n",
    "prompt = PromptTemplate.from_template(\"\"\"Based only on the context below, retrieve the following data field given in input.\n",
    "Forget previous questions.\n",
    "If you cannot find the answer, say N/A.\n",
    "If it takes more than 100 characters to respond, say \"Timed out\".\n",
    "Do not take more than 10 seconds to respond.\n",
    "\n",
    "<context>\n",
    "{context}\n",
    "</context>\n",
    "\n",
    "What is {input}?\"\"\")\n",
    "\n",
    "document_chain = create_stuff_documents_chain(llm, prompt)"
   ]
  },
  {
   "cell_type": "code",
   "execution_count": 7,
   "id": "e0b02188-c5af-4895-b1a5-f24eb5c00121",
   "metadata": {
    "scrolled": true
   },
   "outputs": [
    {
     "name": "stdout",
     "output_type": "stream",
     "text": [
      "CPU times: total: 46.9 ms\n",
      "Wall time: 2.63 s\n"
     ]
    },
    {
     "data": {
      "text/plain": [
       "' Los Angeles County Assessor\\n\\n'"
      ]
     },
     "execution_count": 7,
     "metadata": {},
     "output_type": "execute_result"
    }
   ],
   "source": [
    "%%time\n",
    "from langchain_core.documents import Document\n",
    "\n",
    "document_chain.invoke({\n",
    "    \"input\": \"Name of Assessor/Appraisal District Agency\",\n",
    "    \"context\": [Document(page_content=one_subsection)]\n",
    "})"
   ]
  },
  {
   "cell_type": "code",
   "execution_count": null,
   "id": "172f986b-d3d1-4e55-96db-0031ad4b4870",
   "metadata": {},
   "outputs": [],
   "source": [
    "%%time\n",
    "from langchain_core.documents import Document\n",
    "\n",
    "document_chain.invoke({\n",
    "    \"input\": \"Property Legal Description\",\n",
    "    \"context\": [Document(page_content=one_subsection)]\n",
    "})"
   ]
  },
  {
   "cell_type": "code",
   "execution_count": null,
   "id": "f65af6fc-3b56-4189-879b-62ef868b747e",
   "metadata": {},
   "outputs": [],
   "source": [
    "%%time\n",
    "from langchain_core.documents import Document\n",
    "\n",
    "document_chain.invoke({\n",
    "    \"input\": \"Property Owner Name\",\n",
    "    \"context\": [Document(page_content=one_subsection)]\n",
    "})"
   ]
  },
  {
   "cell_type": "code",
   "execution_count": null,
   "id": "3963771d-9909-4ade-b7fb-67f3ae8cf726",
   "metadata": {},
   "outputs": [],
   "source": [
    "%%time\n",
    "from langchain_core.documents import Document\n",
    "\n",
    "document_chain.invoke({\n",
    "    \"input\": \"When did the owner acquire the property?\",\n",
    "    \"context\": [Document(page_content=one_subsection)]\n",
    "})"
   ]
  },
  {
   "cell_type": "code",
   "execution_count": null,
   "id": "48066fe2-4283-4a94-80ff-ba05ab748cca",
   "metadata": {},
   "outputs": [],
   "source": [
    "%%time\n",
    "from langchain_core.documents import Document\n",
    "\n",
    "document_chain.invoke({\n",
    "    \"input\": \"What was the source of the property owner name and acquisition date?\",\n",
    "    \"context\": [Document(page_content=one_subsection)]\n",
    "})"
   ]
  },
  {
   "cell_type": "code",
   "execution_count": null,
   "id": "3e9125fd-afda-46e6-a5f0-585014f25aef",
   "metadata": {},
   "outputs": [],
   "source": []
  }
 ],
 "metadata": {
  "kernelspec": {
   "display_name": "Python 3 (ipykernel)",
   "language": "python",
   "name": "python3"
  },
  "language_info": {
   "codemirror_mode": {
    "name": "ipython",
    "version": 3
   },
   "file_extension": ".py",
   "mimetype": "text/x-python",
   "name": "python",
   "nbconvert_exporter": "python",
   "pygments_lexer": "ipython3",
   "version": "3.8.2"
  }
 },
 "nbformat": 4,
 "nbformat_minor": 5
}
