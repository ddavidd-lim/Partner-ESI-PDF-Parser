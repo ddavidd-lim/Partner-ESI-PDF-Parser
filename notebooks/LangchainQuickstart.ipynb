{
 "cells": [
  {
   "cell_type": "markdown",
   "id": "7764df16-3564-439a-8401-132b0a7dca4c",
   "metadata": {},
   "source": [
    "## PDF Parsing"
   ]
  },
  {
   "cell_type": "code",
   "execution_count": 13,
   "id": "a9195697-91cc-4a16-99eb-3af0dfe77130",
   "metadata": {},
   "outputs": [],
   "source": [
    "import sys\n",
    "sys.path.append('../src/')\n",
    "import ReadPDF as r"
   ]
  },
  {
   "cell_type": "code",
   "execution_count": 14,
   "id": "ea4aa73b-466e-4134-b6c2-f87bd72aef77",
   "metadata": {},
   "outputs": [],
   "source": [
    "# Extract by Section\n",
    "pdf_path = \"20-301704.3.pdf\"\n",
    "sections = r.process_into_sections(pdf_path)\n",
    "# sections\n",
    "# sections_text = r.select_Section(sections, 2)\n",
    "# one_section = '\\n'.join(sections[1].text)"
   ]
  },
  {
   "cell_type": "code",
   "execution_count": 15,
   "id": "ae8356bf-3228-4801-aba7-6b7372e27a31",
   "metadata": {},
   "outputs": [
    {
     "name": "stdout",
     "output_type": "stream",
     "text": [
      "2.1    Site Location and Legal Description The subject property at 115 West Anapamu Street in Santa Barbara, California is located on the southeast side of West Anapamu Street, between Chapala Street and De La Vina Street. According to the Santa Barbara County Assessor, the subject property is legally described as Assessor Parcel Numbers 039-222- 028 and 039-222-029. Parcel 028 was a public alley on the southwest side of the subject property deeded by the City of Santa Barbara to Sanctuary Centers of Santa Barbara in May 2019. According to the property owner, ownership is currently vested in Sanctuary Centers of Santa Barbara, which acquired the subject property as Sanctuary House of Santa Barbara, Inc., a California nonprofit public benefit corporation dba Sanctuary Psychiatric Centers of Santa Barbara since 1995. Please refer to Figure 1: Site Location Map, Figure 2: Site Plan, Figure 3: Topographic Map, and Appendix A: Site Photographs for the location and site characteristics of the subject property.\n"
     ]
    }
   ],
   "source": [
    "# Extract by Subsection\n",
    "subsection_dict = r.process_file(pdf_path)\n",
    "one_subsection = r.select_Subsection(subsection_dict, 2, 1)\n",
    "print(one_subsection)"
   ]
  },
  {
   "cell_type": "markdown",
   "id": "8588536e-a29d-467a-b648-156a87dd62e6",
   "metadata": {},
   "source": [
    "## LLM Setup + Prompt"
   ]
  },
  {
   "cell_type": "code",
   "execution_count": 16,
   "id": "67a7d0e7-2a8a-4c90-8294-1aeccf642b05",
   "metadata": {},
   "outputs": [],
   "source": [
    "from langchain_community.llms import Ollama\n",
    "llm = Ollama(model=\"phi\", temperature=0, num_predict=40, top_k=5, top_p=.5, mirostat_tau=0, format=\"json\")"
   ]
  },
  {
   "cell_type": "code",
   "execution_count": 17,
   "id": "0befcd62-2d8d-4b7c-9641-5b962a337d2f",
   "metadata": {},
   "outputs": [],
   "source": [
    "from langchain_core.output_parsers import StrOutputParser\n",
    "from langchain_core.output_parsers import JsonOutputParser\n",
    "\n",
    "output_parser = StrOutputParser()\n",
    "json_parser = JsonOutputParser()"
   ]
  },
  {
   "cell_type": "code",
   "execution_count": 18,
   "id": "6d1df855-322c-44a2-89a5-f8b06824372a",
   "metadata": {},
   "outputs": [
    {
     "name": "stdout",
     "output_type": "stream",
     "text": [
      "CPU times: total: 1.02 s\n",
      "Wall time: 1.28 s\n"
     ]
    }
   ],
   "source": [
    "%%time\n",
    "from langchain.chains.combine_documents import create_stuff_documents_chain\n",
    "from langchain_core.prompts import PromptTemplate\n",
    "\n",
    "prompt = PromptTemplate.from_template(\"\"\"Retrieve the datafield defined in input within the context given.\n",
    "Anything legal can be found in the context.\n",
    "If you cannot answer the question with the context, respond with N/A.\n",
    "\n",
    "<context>\n",
    "{context}\n",
    "</context>\n",
    "\n",
    "{input} is the key in the dictionary where the value is the prompt for the datafield.\n",
    "Simply respond with only the answer that matches the datafield.\n",
    "Do not include the datafield in your response. Keep the key for the json exactly the same as the input.\n",
    "\"\"\")\n",
    "\n",
    "document_chain = create_stuff_documents_chain(llm, prompt, output_parser=json_parser)"
   ]
  },
  {
   "cell_type": "markdown",
   "id": "6c424268-844e-48b5-be13-d45a30688304",
   "metadata": {},
   "source": [
    "## Responses"
   ]
  },
  {
   "cell_type": "code",
   "execution_count": 19,
   "id": "3108c5f0-934d-428f-9c30-a8794a71b032",
   "metadata": {},
   "outputs": [],
   "source": [
    "fields_dict = {'Name of Assessor/Appraisal District Agency': 'ets_2p_32a', 'Property Legal Description' : 'ets_2p_33a', 'Property Owner Name' : 'ets_2p_34a'}"
   ]
  },
  {
   "cell_type": "code",
   "execution_count": 20,
   "id": "e0b02188-c5af-4895-b1a5-f24eb5c00121",
   "metadata": {
    "scrolled": true
   },
   "outputs": [
    {
     "name": "stdout",
     "output_type": "stream",
     "text": [
      "CPU times: total: 31.2 ms\n",
      "Wall time: 23.5 s\n"
     ]
    },
    {
     "data": {
      "text/plain": [
       "{'name': 'Santa Barbara County Assessor',\n",
       " 'agency': 'Santa Barbara County Assessor'}"
      ]
     },
     "execution_count": 20,
     "metadata": {},
     "output_type": "execute_result"
    }
   ],
   "source": [
    "%%time\n",
    "from langchain_core.documents import Document\n",
    "\n",
    "document_chain.invoke({\n",
    "    \"input\": 'Name of Assessor/Appraisal District Agency',\n",
    "    \"context\": [Document(page_content=one_subsection)]\n",
    "})"
   ]
  },
  {
   "cell_type": "code",
   "execution_count": 25,
   "id": "172f986b-d3d1-4e55-96db-0031ad4b4870",
   "metadata": {},
   "outputs": [
    {
     "name": "stdout",
     "output_type": "stream",
     "text": [
      "CPU times: user 31.2 ms, sys: 7.4 ms, total: 38.6 ms\n",
      "Wall time: 8.64 s\n"
     ]
    },
    {
     "data": {
      "text/plain": [
       "{'property_legal_description': 'OM 3-19-27 EX OF R/W AND STS LOT 3 DIV 105 REG 48'}"
      ]
     },
     "execution_count": 25,
     "metadata": {},
     "output_type": "execute_result"
    }
   ],
   "source": [
    "%%time\n",
    "from langchain_core.documents import Document\n",
    "\n",
    "document_chain.invoke({\n",
    "    \"input\": \"Property Legal Description\",\n",
    "    \"context\": [Document(page_content=one_subsection)]\n",
    "})"
   ]
  },
  {
   "cell_type": "code",
   "execution_count": 26,
   "id": "f65af6fc-3b56-4189-879b-62ef868b747e",
   "metadata": {},
   "outputs": [
    {
     "name": "stdout",
     "output_type": "stream",
     "text": [
      "CPU times: user 24 ms, sys: 7.18 ms, total: 31.2 ms\n",
      "Wall time: 6.75 s\n"
     ]
    },
    {
     "data": {
      "text/plain": [
       "{'Property Owner Name': 'LBA RVI – Company VIII, LLC'}"
      ]
     },
     "execution_count": 26,
     "metadata": {},
     "output_type": "execute_result"
    }
   ],
   "source": [
    "%%time\n",
    "from langchain_core.documents import Document\n",
    "\n",
    "document_chain.invoke({\n",
    "    \"input\": \"Property Owner Name\",\n",
    "    \"context\": [Document(page_content=one_subsection)]\n",
    "})"
   ]
  },
  {
   "cell_type": "code",
   "execution_count": 27,
   "id": "3963771d-9909-4ade-b7fb-67f3ae8cf726",
   "metadata": {},
   "outputs": [
    {
     "name": "stdout",
     "output_type": "stream",
     "text": [
      "CPU times: user 29.7 ms, sys: 7.12 ms, total: 36.9 ms\n",
      "Wall time: 8.79 s\n"
     ]
    },
    {
     "data": {
      "text/plain": [
       "{'datafield': 'owner', 'prompt': 'The owner acquired the property on'}"
      ]
     },
     "execution_count": 27,
     "metadata": {},
     "output_type": "execute_result"
    }
   ],
   "source": [
    "%%time\n",
    "from langchain_core.documents import Document\n",
    "\n",
    "document_chain.invoke({\n",
    "    \"input\": \"When did the owner acquire the property?\",\n",
    "    \"context\": [Document(page_content=one_subsection)]\n",
    "})"
   ]
  },
  {
   "cell_type": "code",
   "execution_count": 28,
   "id": "48066fe2-4283-4a94-80ff-ba05ab748cca",
   "metadata": {},
   "outputs": [
    {
     "name": "stdout",
     "output_type": "stream",
     "text": [
      "CPU times: user 28.9 ms, sys: 6.28 ms, total: 35.2 ms\n",
      "Wall time: 7.63 s\n"
     ]
    },
    {
     "data": {
      "text/plain": [
       "{'source': 'LBA RVI – Company VIII, LLC',\n",
       " 'acquisition_date': 'October 28, 2021'}"
      ]
     },
     "execution_count": 28,
     "metadata": {},
     "output_type": "execute_result"
    }
   ],
   "source": [
    "%%time\n",
    "from langchain_core.documents import Document\n",
    "\n",
    "document_chain.invoke({\n",
    "    \"input\": \"What was the source of the property owner name and acquisition date?\",\n",
    "    \"context\": [Document(page_content=one_subsection)]\n",
    "})"
   ]
  },
  {
   "cell_type": "code",
   "execution_count": null,
   "id": "783b12e7-7f09-4068-ba7b-2622d4b4bf11",
   "metadata": {},
   "outputs": [],
   "source": []
  }
 ],
 "metadata": {
  "kernelspec": {
   "display_name": "Python 3 (ipykernel)",
   "language": "python",
   "name": "python3"
  },
  "language_info": {
   "codemirror_mode": {
    "name": "ipython",
    "version": 3
   },
   "file_extension": ".py",
   "mimetype": "text/x-python",
   "name": "python",
   "nbconvert_exporter": "python",
   "pygments_lexer": "ipython3",
   "version": "3.8.2"
  }
 },
 "nbformat": 4,
 "nbformat_minor": 5
}
