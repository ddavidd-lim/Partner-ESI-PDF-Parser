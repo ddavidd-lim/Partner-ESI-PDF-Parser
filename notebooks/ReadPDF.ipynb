{
 "cells": [
  {
   "cell_type": "code",
   "execution_count": 2,
   "id": "5c04ffdc-3042-4117-bf4e-5b363018af2b",
   "metadata": {
    "id": "5c04ffdc-3042-4117-bf4e-5b363018af2b"
   },
   "outputs": [],
   "source": [
    "import fitz\n",
    "import re\n",
    "from nltk import tokenize\n",
    "from nltk.stem import PorterStemmer\n",
    "from typing import List, Tuple, Dict"
   ]
  },
  {
   "cell_type": "code",
   "execution_count": 3,
   "id": "X2eyQO9oHbq_",
   "metadata": {
    "id": "X2eyQO9oHbq_"
   },
   "outputs": [],
   "source": [
    "class Section():\n",
    "  def __init__(self):\n",
    "    self.section_num = \"0\"\n",
    "    self.section_title = \"\"\n",
    "    self.text = []\n",
    "\n",
    "  def __str__(self):\n",
    "    return f\"Section {self.section_num} {self.section_title}:\"\n",
    "\n",
    "  def display_text(self):\n",
    "    for t in self.text:\n",
    "      print(t)\n"
   ]
  },
  {
   "cell_type": "code",
   "execution_count": 146,
   "id": "3799ec9f-251a-4b9e-9771-b309e5fe7bfb",
   "metadata": {
    "id": "3799ec9f-251a-4b9e-9771-b309e5fe7bfb"
   },
   "outputs": [],
   "source": [
    "def extract_by_section(pages: List[Tuple[str, List[str]]]) -> List[Section]:\n",
    "  \"\"\"\n",
    "  Pages is structured as: [('1', ListofLines)]\n",
    "\n",
    "  Returns: List of Tuples. In each tuple is its section and the lines within the section\n",
    "\n",
    "  \"\"\"\n",
    "  sections = []\n",
    "  current_section = None\n",
    "  section_found  = False\n",
    "  for page, lines in pages:\n",
    "      for line in lines[4:]:\n",
    "          if line.endswith(\".0\"):\n",
    "              if current_section:\n",
    "                  sections.append(current_section)\n",
    "              current_section = Section()\n",
    "              current_section.section_num = line\n",
    "              # print(f\"Section_num: {current_section.section_num}\")\n",
    "              section_found = True\n",
    "          if line.isupper() and section_found:\n",
    "              current_section.section_title = line\n",
    "          elif section_found:\n",
    "              # print(\"Appended: \", line)\n",
    "              current_section.text.append(line)\n",
    "  return sections"
   ]
  },
  {
   "cell_type": "code",
   "execution_count": 50,
   "id": "dtmKEY3V1bz_",
   "metadata": {
    "id": "dtmKEY3V1bz_"
   },
   "outputs": [],
   "source": [
    "def extract_subsections(sections: List[Section]) -> Dict[str, List[Section]]:\n",
    "  section_map = dict()\n",
    "  current_subsection = None\n",
    "  nextLineTitle = False\n",
    "  for section in sections:\n",
    "    section_num = section.section_num[0]\n",
    "    subsections = []\n",
    "    # print(f\"Section_num: {section_num}\")\n",
    "    for line in section.text:\n",
    "      if line.startswith(section_num):\n",
    "        # print(f\"SubSection_num: {line}\")\n",
    "        if current_subsection:\n",
    "          subsections.append(current_subsection)\n",
    "        current_subsection = Section()\n",
    "        subsection_number = line.split()\n",
    "        current_subsection.section_num = subsection_number[0]\n",
    "        if len(subsection_number) >= 2:\n",
    "          for word in subsection_number[1:]:\n",
    "            current_subsection.section_title += word\n",
    "        else:\n",
    "          current_subsection.section_num = line\n",
    "          nextLineTitle = True\n",
    "          # print(f\"SubSection_num: {current_subsection.section_num}\")\n",
    "          continue\n",
    "\n",
    "      if nextLineTitle:\n",
    "        current_subsection.section_title = line\n",
    "        nextLineTitle = False\n",
    "      else:\n",
    "        current_subsection.text.append(line)\n",
    "    section_map[section_num] = subsections\n",
    "\n",
    "  return section_map\n",
    "\n",
    "\n"
   ]
  },
  {
   "cell_type": "code",
   "execution_count": 145,
   "id": "c8134563-1118-48cc-9019-0449444590d8",
   "metadata": {},
   "outputs": [],
   "source": [
    "def display_one_section(sections: List[Section], section_num):\n",
    "    print(sections[section_num - 1])\n",
    "    print(sections[section_num - 1].section_num)\n",
    "    print(sections[section_num - 1].section_title)\n",
    "    sections[section_num - 1].display_text()"
   ]
  },
  {
   "cell_type": "code",
   "execution_count": 128,
   "id": "WnKCT73RnmmI",
   "metadata": {
    "id": "WnKCT73RnmmI"
   },
   "outputs": [],
   "source": [
    "doc = fitz.open(\"4444 East.pdf\")\n",
    "out = open(\"output.txt\", \"wb\")\n",
    "pages = []\n",
    "for page in doc:\n",
    "    text = page.get_text().encode(\"utf8\")\n",
    "    pages.append(text)\n",
    "    out.write(text)\n",
    "    out.write(bytes((12,)))\n",
    "    # pages.append(text)\n",
    "out.close()"
   ]
  },
  {
   "cell_type": "code",
   "execution_count": 129,
   "id": "94350ca1-6146-4a29-9b30-efe5854e2085",
   "metadata": {
    "id": "94350ca1-6146-4a29-9b30-efe5854e2085"
   },
   "outputs": [],
   "source": [
    "output_file = 'output.txt'\n",
    "pattern = r'Page\\s+([\\d]+)'\n",
    "pages = []\n",
    "page_num = \"\"\n",
    "with open(output_file, 'r', encoding='utf8') as f:\n",
    "    page = []\n",
    "    for line in f:\n",
    "        if line.strip() != \"\":\n",
    "            page.append(line.strip())\n",
    "        matches = re.findall(pattern, line)\n",
    "        if len(matches) > 0:\n",
    "            page_num = matches[0]\n",
    "        if '\\f' in line:\n",
    "            pages.append((page_num, page))\n",
    "            page = []\n",
    "            page_num = \"\"\n"
   ]
  },
  {
   "cell_type": "code",
   "execution_count": 154,
   "id": "9a4d5ab9-43d4-4cb5-a22b-37b8fe0e1ac7",
   "metadata": {},
   "outputs": [],
   "source": [
    "def remove_table_of_contents(pages):\n",
    "    return [i for i in pages if i[0] != \"\"]"
   ]
  },
  {
   "cell_type": "code",
   "execution_count": 155,
   "id": "cEXQ7q_lMb8x",
   "metadata": {
    "colab": {
     "base_uri": "https://localhost:8080/"
    },
    "id": "cEXQ7q_lMb8x",
    "outputId": "7d862ef4-0d3f-41f2-b4f5-c6d538404094"
   },
   "outputs": [],
   "source": [
    "# page 1 starts at index 7\n",
    "content = remove_table_of_contents(pages)\n",
    "# content[4]\n",
    "# Header is found in first 4 lines\n",
    "header = content[0][1][:4]\n",
    "# header\n",
    "\n",
    "sections = extract_by_section(content)\n",
    "# sections[5].section_title"
   ]
  },
  {
   "cell_type": "code",
   "execution_count": 157,
   "id": "twFfBIONJDxy",
   "metadata": {
    "colab": {
     "base_uri": "https://localhost:8080/",
     "height": 210
    },
    "id": "twFfBIONJDxy",
    "outputId": "f3bbec3f-cf91-4c6e-f413-09c68fd7a209"
   },
   "outputs": [],
   "source": [
    "# display_one_section(sections, 4)"
   ]
  },
  {
   "cell_type": "code",
   "execution_count": 158,
   "id": "BC8hbOZNnpAu",
   "metadata": {
    "id": "BC8hbOZNnpAu"
   },
   "outputs": [
    {
     "name": "stdout",
     "output_type": "stream",
     "text": [
      "Section 5.0 In order to qualify for one of the Landowner Liability Protections (LLPs) offered by the Small Business:\n",
      "5.0\n",
      "In order to qualify for one of the Landowner Liability Protections (LLPs) offered by the Small Business\n",
      "Liability Relief and Brownfields Revitalization Act of 2001 (the Brownfields Amendments), the User must\n",
      "provide the following information (if available) to the environmental professional.  Failure to provide this\n",
      "information could result in a determination that all appropriate inquiry is not complete.  The user is asked\n",
      "to provide information or knowledge of the following:\n",
      "•\n",
      "Environmental cleanup liens that are filed or recorded against the site.\n",
      "•\n",
      "Activity and land use limitations that are in place on the site or that have been filed or recorded in a\n",
      "registry.\n",
      "•\n",
      "Specialized knowledge or experience of the person seeking to qualify for the LLPs.\n",
      "•\n",
      "Relationship of the purchase price to the fair market value of the property if it were not contaminated.\n",
      "•\n",
      "Commonly known or reasonably ascertainable information about the property.\n",
      "•\n",
      "The degree of obviousness of the presence or likely presence of contamination at the property, and\n",
      "the ability to detect the contamination by appropriate assessment.\n",
      "•\n",
      "The reason for preparation of this Phase I ESA.\n",
      "Fulfillment of these user responsibilities is key to qualification for the identified defenses to CERCLA\n",
      "liability. Partner requested our Client to provide information to satisfy User Responsibilities as identified in\n",
      "Section 6 of the ASTM guidance.\n"
     ]
    }
   ],
   "source": [
    "section_map = extract_subsections(sections)\n",
    "display_one_section(section_map[\"5\"], 2)"
   ]
  },
  {
   "cell_type": "code",
   "execution_count": null,
   "id": "OfRx4uz_LwkQ",
   "metadata": {
    "colab": {
     "base_uri": "https://localhost:8080/"
    },
    "id": "OfRx4uz_LwkQ",
    "outputId": "4489352d-8c91-40ee-ec94-8be6e335b0c2"
   },
   "outputs": [],
   "source": [
    "display_one_section(section_map[\"7\"], 0)"
   ]
  },
  {
   "cell_type": "code",
   "execution_count": 85,
   "id": "3S0J0kmZlx61",
   "metadata": {
    "id": "3S0J0kmZlx61"
   },
   "outputs": [
    {
     "data": {
      "text/plain": [
       "('28',\n",
       " ['Phase I Environmental Site Assessment',\n",
       "  'Project No. 21-342562.35',\n",
       "  'November 15, 2021',\n",
       "  'Page 28',\n",
       "  '6.0',\n",
       "  'SITE RECONNAISSANCE',\n",
       "  'The weather at the time of the site visit was sunny and clear.  Refer to Section 1.5 for limitations',\n",
       "  'encountered during the field reconnaissance and Sections 2.1 and 2.2 for subject property operations.',\n",
       "  'The table below provides the site assessment details:',\n",
       "  'Site Assessment Data',\n",
       "  'Site Assessment Performed By:',\n",
       "  'Joseph Kim',\n",
       "  'Site Assessment Conducted On:',\n",
       "  'October 28, 2021',\n",
       "  'The table below provides the subject property personnel interviewed during the field reconnaissance:',\n",
       "  'Site Visit Personnel for 4444 East 26th Street (Subject Property)',\n",
       "  'Name',\n",
       "  'Title/Role',\n",
       "  'Contact Number',\n",
       "  'Site Walk*',\n",
       "  'Yes/No',\n",
       "  'Ana Darino',\n",
       "  'Key Site Manager',\n",
       "  '(213) 507-0638',\n",
       "  'Yes',\n",
       "  '* Accompanied Partner during the field reconnaissance activities and provided information pertaining to',\n",
       "  'the current operations and maintenance of the subject property.',\n",
       "  '6.1',\n",
       "  'General Site Characteristics',\n",
       "  '6.1.1',\n",
       "  'Solid Waste Disposal',\n",
       "  'Solid waste generated at the subject property is disposed in commercial dumpsters located in the western',\n",
       "  'portion of the subject property.  An independent solid waste disposal contractor, Waste Management,',\n",
       "  'removes solid waste from the subject property.  No evidence of illegal dumping of solid waste was',\n",
       "  'observed during the Partner site reconnaissance.   No further investigation or corrective actions are',\n",
       "  'warranted.',\n",
       "  '6.1.2',\n",
       "  'Sewage Discharge and Disposal',\n",
       "  'Sanitary discharges on the subject property are directed into the municipal sanitary sewer system',\n",
       "  'operated by the City of Vernon.',\n",
       "  '6.1.3',\n",
       "  'Surface Water Drainage',\n",
       "  'Storm water is removed from the subject property primarily by sheet flow action across the paved',\n",
       "  'surfaces towards storm water drains located throughout the subject property and in the public right of',\n",
       "  'way.  Site storm water from roofs, landscaped areas, and paved areas is directed to on-site concrete',\n",
       "  'swales, which drain to the public right of way, and to on-site storm water drains.  The subject property is',\n",
       "  'connected to a municipal owned and maintained sewer system.',\n",
       "  'The subject property does not appear to be a designated wetland area, based on information obtained',\n",
       "  'from the United States Department of Agriculture.  A comprehensive wetlands survey would be required',\n",
       "  'in order to formally determine actual wetlands on the subject property.  No surface impoundments,',\n",
       "  'wetlands, natural catch basins, settling ponds, or lagoons are located on the subject property.  No',\n",
       "  'drywells were identified on the subject property.'])"
      ]
     },
     "execution_count": 85,
     "metadata": {},
     "output_type": "execute_result"
    }
   ],
   "source": [
    "content[30]"
   ]
  },
  {
   "cell_type": "code",
   "execution_count": null,
   "id": "b5169362-4f43-45c5-a096-0a65d051a9dd",
   "metadata": {},
   "outputs": [],
   "source": []
  }
 ],
 "metadata": {
  "colab": {
   "provenance": []
  },
  "kernelspec": {
   "display_name": "Python 3 (ipykernel)",
   "language": "python",
   "name": "python3"
  },
  "language_info": {
   "codemirror_mode": {
    "name": "ipython",
    "version": 3
   },
   "file_extension": ".py",
   "mimetype": "text/x-python",
   "name": "python",
   "nbconvert_exporter": "python",
   "pygments_lexer": "ipython3",
   "version": "3.8.2"
  }
 },
 "nbformat": 4,
 "nbformat_minor": 5
}
