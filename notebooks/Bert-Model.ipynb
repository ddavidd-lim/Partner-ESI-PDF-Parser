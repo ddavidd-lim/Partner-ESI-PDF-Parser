{
 "cells": [
  {
   "cell_type": "code",
   "execution_count": 4,
   "id": "dd360b33-9096-4121-a06f-6c65cade6e38",
   "metadata": {},
   "outputs": [
    {
     "name": "stderr",
     "output_type": "stream",
     "text": [
      "Some weights of the model checkpoint at dslim/bert-base-NER were not used when initializing BertForTokenClassification: ['bert.pooler.dense.bias', 'bert.pooler.dense.weight']\n",
      "- This IS expected if you are initializing BertForTokenClassification from the checkpoint of a model trained on another task or with another architecture (e.g. initializing a BertForSequenceClassification model from a BertForPreTraining model).\n",
      "- This IS NOT expected if you are initializing BertForTokenClassification from the checkpoint of a model that you expect to be exactly identical (initializing a BertForSequenceClassification model from a BertForSequenceClassification model).\n"
     ]
    }
   ],
   "source": [
    "from transformers import AutoTokenizer, AutoModelForTokenClassification\n",
    "from transformers import pipeline\n",
    "\n",
    "tokenizer = AutoTokenizer.from_pretrained(\"dslim/bert-base-NER\")\n",
    "model = AutoModelForTokenClassification.from_pretrained(\"dslim/bert-base-NER\")\n",
    "\n",
    "nlp = pipeline(\"ner\", model=model, tokenizer=tokenizer)\n",
    "\n",
    "\n"
   ]
  },
  {
   "cell_type": "code",
   "execution_count": null,
   "id": "d06fb65f-e1e1-4ec4-938a-77bf624389a1",
   "metadata": {},
   "outputs": [],
   "source": []
  },
  {
   "cell_type": "code",
   "execution_count": 7,
   "id": "fbf15756-feaa-4ef4-b735-4f7d5cc0fa4e",
   "metadata": {},
   "outputs": [
    {
     "name": "stdout",
     "output_type": "stream",
     "text": [
      "{'entity': 'B-LOC', 'score': 0.9130331, 'index': 7, 'word': 'Peninsula', 'start': 27, 'end': 36}\n",
      "{'entity': 'I-LOC', 'score': 0.84307855, 'index': 8, 'word': '##r', 'start': 36, 'end': 37}\n",
      "{'entity': 'I-LOC', 'score': 0.9842153, 'index': 9, 'word': 'Range', 'start': 38, 'end': 43}\n",
      "{'entity': 'I-LOC', 'score': 0.97417194, 'index': 10, 'word': '##s', 'start': 43, 'end': 44}\n",
      "{'entity': 'B-LOC', 'score': 0.843311, 'index': 17, 'word': 'Peninsula', 'start': 70, 'end': 79}\n",
      "{'entity': 'I-LOC', 'score': 0.58908993, 'index': 18, 'word': '##r', 'start': 79, 'end': 80}\n",
      "{'entity': 'I-LOC', 'score': 0.96282834, 'index': 19, 'word': 'Range', 'start': 81, 'end': 86}\n",
      "{'entity': 'I-LOC', 'score': 0.95143247, 'index': 20, 'word': '##s', 'start': 86, 'end': 87}\n",
      "{'entity': 'B-LOC', 'score': 0.9655876, 'index': 41, 'word': 'Trans', 'start': 204, 'end': 209}\n",
      "{'entity': 'I-LOC', 'score': 0.9807289, 'index': 42, 'word': '##verse', 'start': 209, 'end': 214}\n",
      "{'entity': 'I-LOC', 'score': 0.9941742, 'index': 43, 'word': 'Range', 'start': 215, 'end': 220}\n",
      "{'entity': 'I-LOC', 'score': 0.9915692, 'index': 44, 'word': '##s', 'start': 220, 'end': 221}\n",
      "{'entity': 'B-LOC', 'score': 0.9992606, 'index': 47, 'word': 'Los', 'start': 230, 'end': 233}\n",
      "{'entity': 'I-LOC', 'score': 0.99864894, 'index': 48, 'word': 'Angeles', 'start': 234, 'end': 241}\n",
      "{'entity': 'I-LOC', 'score': 0.9989563, 'index': 49, 'word': 'Basin', 'start': 242, 'end': 247}\n",
      "{'entity': 'B-MISC', 'score': 0.99867463, 'index': 53, 'word': 'Mexican', 'start': 261, 'end': 268}\n",
      "{'entity': 'B-LOC', 'score': 0.99933237, 'index': 61, 'word': 'Baja', 'start': 301, 'end': 305}\n",
      "{'entity': 'I-LOC', 'score': 0.9989549, 'index': 62, 'word': 'California', 'start': 306, 'end': 316}\n",
      "{'entity': 'B-LOC', 'score': 0.99902487, 'index': 71, 'word': 'Colorado', 'start': 352, 'end': 360}\n",
      "{'entity': 'I-LOC', 'score': 0.998836, 'index': 72, 'word': 'Desert', 'start': 361, 'end': 367}\n",
      "{'entity': 'B-LOC', 'score': 0.9985482, 'index': 75, 'word': 'Gulf', 'start': 376, 'end': 380}\n",
      "{'entity': 'I-LOC', 'score': 0.99864656, 'index': 76, 'word': 'of', 'start': 381, 'end': 383}\n",
      "{'entity': 'I-LOC', 'score': 0.9978891, 'index': 77, 'word': 'California', 'start': 384, 'end': 394}\n",
      "{'entity': 'B-LOC', 'score': 0.8808255, 'index': 80, 'word': 'Peninsula', 'start': 401, 'end': 410}\n",
      "{'entity': 'I-LOC', 'score': 0.6972133, 'index': 81, 'word': '##r', 'start': 410, 'end': 411}\n",
      "{'entity': 'I-LOC', 'score': 0.9822557, 'index': 82, 'word': 'Range', 'start': 412, 'end': 417}\n",
      "{'entity': 'I-LOC', 'score': 0.92543566, 'index': 83, 'word': '##s', 'start': 417, 'end': 418}\n",
      "{'entity': 'B-MISC', 'score': 0.77189755, 'index': 86, 'word': 'Jurassic', 'start': 433, 'end': 441}\n",
      "{'entity': 'B-MISC', 'score': 0.91355157, 'index': 89, 'word': 'Cretaceous', 'start': 456, 'end': 466}\n",
      "{'entity': 'B-MISC', 'score': 0.99643123, 'index': 97, 'word': 'Nevada', 'start': 501, 'end': 507}\n",
      "{'entity': 'I-MISC', 'score': 0.87424856, 'index': 98, 'word': '##n', 'start': 507, 'end': 508}\n",
      "{'entity': 'B-MISC', 'score': 0.99594516, 'index': 104, 'word': 'Marine', 'start': 521, 'end': 527}\n",
      "{'entity': 'I-MISC', 'score': 0.836617, 'index': 105, 'word': 'Cretaceous', 'start': 528, 'end': 538}\n",
      "{'entity': 'B-MISC', 'score': 0.99577326, 'index': 114, 'word': 'post', 'start': 583, 'end': 587}\n",
      "{'entity': 'I-MISC', 'score': 0.5671749, 'index': 116, 'word': 'Cretaceous', 'start': 588, 'end': 598}\n"
     ]
    }
   ],
   "source": [
    "example = \"\"\"The site is located in the Peninsular Ranges\n",
    "geomorphic province. The Peninsular Ranges are a\n",
    "northwest-\n",
    "southwest oriented complex of blocks separated by\n",
    "similarly trending faults.  They extend from the\n",
    "Transverse Ranges and the Los Angeles Basin south to\n",
    "the Mexican border and beyond to the tip of Baja\n",
    "California and are bounded on the east by the\n",
    "Colorado Desert and the Gulf of California.  The\n",
    "Peninsular\n",
    "Ranges contain minor Jurassic and extensive\n",
    "Cretaceous igneous rocks associated with the Nevadan\n",
    "plutonism.  Marine Cretaceous sedimentary rocks are\n",
    "well represented, and post-Cretaceous rocks form a\n",
    "restricted veneer of volcanic, marine, and nonmarine\n",
    "sediments.\"\"\"\n",
    "\n",
    "\n",
    "ner_results = nlp(example)\n",
    "for n in ner_results:\n",
    "    print(n)"
   ]
  },
  {
   "cell_type": "code",
   "execution_count": null,
   "id": "48f8ea7d-debc-4851-b621-275f0800bd70",
   "metadata": {},
   "outputs": [],
   "source": []
  }
 ],
 "metadata": {
  "kernelspec": {
   "display_name": "Python 3 (ipykernel)",
   "language": "python",
   "name": "python3"
  },
  "language_info": {
   "codemirror_mode": {
    "name": "ipython",
    "version": 3
   },
   "file_extension": ".py",
   "mimetype": "text/x-python",
   "name": "python",
   "nbconvert_exporter": "python",
   "pygments_lexer": "ipython3",
   "version": "3.8.0"
  }
 },
 "nbformat": 4,
 "nbformat_minor": 5
}
