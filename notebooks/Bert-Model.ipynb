{
 "cells": [
  {
   "cell_type": "code",
   "execution_count": 4,
   "id": "dd360b33-9096-4121-a06f-6c65cade6e38",
   "metadata": {},
   "outputs": [
    {
     "name": "stderr",
     "output_type": "stream",
     "text": [
      "Some weights of the model checkpoint at dslim/bert-base-NER were not used when initializing BertForTokenClassification: ['bert.pooler.dense.bias', 'bert.pooler.dense.weight']\n",
      "- This IS expected if you are initializing BertForTokenClassification from the checkpoint of a model trained on another task or with another architecture (e.g. initializing a BertForSequenceClassification model from a BertForPreTraining model).\n",
      "- This IS NOT expected if you are initializing BertForTokenClassification from the checkpoint of a model that you expect to be exactly identical (initializing a BertForSequenceClassification model from a BertForSequenceClassification model).\n"
     ]
    }
   ],
   "source": [
    "from transformers import AutoTokenizer, AutoModelForTokenClassification\n",
    "from transformers import pipeline\n",
    "\n",
    "tokenizer = AutoTokenizer.from_pretrained(\"dslim/bert-base-NER\")\n",
    "model = AutoModelForTokenClassification.from_pretrained(\"dslim/bert-base-NER\")\n",
    "\n",
    "nlp = pipeline(\"ner\", model=model, tokenizer=tokenizer)"
   ]
  },
  {
   "cell_type": "code",
   "execution_count": 9,
   "id": "fbf15756-feaa-4ef4-b735-4f7d5cc0fa4e",
   "metadata": {},
   "outputs": [
    {
     "name": "stdout",
     "output_type": "stream",
     "text": [
      "The site is located in the Peninsular Ranges\n",
      "geomorphic province. The Peninsular Ranges are a\n",
      "northwest-\n",
      "southwest oriented complex of blocks separated by\n",
      "similarly trending faults.  They extend from the\n",
      "Transverse Ranges and the Los Angeles Basin south to\n",
      "the Mexican border and beyond to the tip of Baja\n",
      "California and are bounded on the east by the\n",
      "Colorado Desert and the Gulf of California.  The\n",
      "Peninsular\n",
      "Ranges contain minor Jurassic and extensive\n",
      "Cretaceous igneous rocks associated with the Nevadan\n",
      "plutonism.  Marine Cretaceous sedimentary rocks are\n",
      "well represented, and post-Cretaceous rocks form a\n",
      "restricted veneer of volcanic, marine, and nonmarine\n",
      "sediments.\n"
     ]
    }
   ],
   "source": [
    "example = \"\"\"The site is located in the Peninsular Ranges\n",
    "geomorphic province. The Peninsular Ranges are a\n",
    "northwest-\n",
    "southwest oriented complex of blocks separated by\n",
    "similarly trending faults.  They extend from the\n",
    "Transverse Ranges and the Los Angeles Basin south to\n",
    "the Mexican border and beyond to the tip of Baja\n",
    "California and are bounded on the east by the\n",
    "Colorado Desert and the Gulf of California.  The\n",
    "Peninsular\n",
    "Ranges contain minor Jurassic and extensive\n",
    "Cretaceous igneous rocks associated with the Nevadan\n",
    "plutonism.  Marine Cretaceous sedimentary rocks are\n",
    "well represented, and post-Cretaceous rocks form a\n",
    "restricted veneer of volcanic, marine, and nonmarine\n",
    "sediments.\"\"\"\n",
    "print(example)\n",
    "\n"
   ]
  },
  {
   "cell_type": "code",
   "execution_count": 67,
   "id": "abfff051-c682-4da2-88d5-91a2c8dd9c02",
   "metadata": {},
   "outputs": [
    {
     "name": "stdout",
     "output_type": "stream",
     "text": [
      "Start: 27, end: 44\n",
      "Start: 83, end: 100\n",
      "Start: 230, end: 247\n",
      "Start: 269, end: 286\n",
      "Start: 313, end: 320\n",
      "Start: 366, end: 381\n",
      "Start: 430, end: 445\n",
      "Start: 467, end: 485\n",
      "Start: 505, end: 522\n",
      "Start: 550, end: 558\n",
      "Start: 586, end: 596\n",
      "Start: 644, end: 651\n",
      "Start: 677, end: 694\n"
     ]
    }
   ],
   "source": [
    "ner_results = nlp(example)\n",
    "startEntity = False\n",
    "flagged_text = example\n",
    "offset = 0\n",
    "startflag = \"[FLAG]\"\n",
    "endflag = \"[/FLAG]\"\n",
    "for index, json in enumerate(ner_results):\n",
    "    if json[\"entity\"].startswith(\"B\"):\n",
    "        if index != 0:\n",
    "            end = ner_results[index-1][\"end\"] + offset\n",
    "            print(f\"Start: {start}, end: {end}\")\n",
    "            \n",
    "            flagged_text = flagged_text[:start] + startflag + flagged_text[start:end] + endflag + flagged_text[end:]\n",
    "            offset += len(startflag) + len(endflag)\n",
    "            start = json[\"start\"] + offset\n",
    "            \n",
    "        elif index == 0:\n",
    "            start = json[\"start\"]"
   ]
  },
  {
   "cell_type": "code",
   "execution_count": 68,
   "id": "8bd96db5-c82e-40cb-8be5-6b16674c5e99",
   "metadata": {
    "scrolled": true
   },
   "outputs": [
    {
     "name": "stdout",
     "output_type": "stream",
     "text": [
      "The site is located in the [FLAG]Peninsular Ranges[/FLAG]\n",
      "geomorphic province. The [FLAG]Peninsular Ranges[/FLAG] are a\n",
      "northwest-\n",
      "southwest oriented complex of blocks separated by\n",
      "similarly trending faults.  They extend from the\n",
      "[FLAG]Transverse Ranges[/FLAG] and the [FLAG]Los Angeles Basin[/FLAG] south to\n",
      "the [FLAG]Mexican[/FLAG] border and beyond to the tip of [FLAG]Baja\n",
      "California[/FLAG] and are bounded on the east by the\n",
      "[FLAG]Colorado Desert[/FLAG] and the [FLAG]Gulf of California[/FLAG].  The\n",
      "[FLAG]Peninsular\n",
      "Ranges[/FLAG] contain minor [FLAG]Jurassic[/FLAG] and extensive\n",
      "[FLAG]Cretaceous[/FLAG] igneous rocks associated with the [FLAG]Nevadan[/FLAG]\n",
      "plutonism.  [FLAG]Marine Cretaceous[/FLAG] sedimentary rocks are\n",
      "well represented, and post-Cretaceous rocks form a\n",
      "restricted veneer of volcanic, marine, and nonmarine\n",
      "sediments.\n"
     ]
    }
   ],
   "source": [
    "print(flagged_text)"
   ]
  },
  {
   "cell_type": "code",
   "execution_count": 47,
   "id": "3864d312-41ec-4013-8c5e-49441fa66cc8",
   "metadata": {},
   "outputs": [
    {
     "name": "stdout",
     "output_type": "stream",
     "text": [
      "{'entity': 'B-LOC', 'score': 0.9130331, 'index': 7, 'word': 'Peninsula', 'start': 27, 'end': 36}\n",
      "{'entity': 'I-LOC', 'score': 0.84307855, 'index': 8, 'word': '##r', 'start': 36, 'end': 37}\n",
      "{'entity': 'I-LOC', 'score': 0.9842153, 'index': 9, 'word': 'Range', 'start': 38, 'end': 43}\n",
      "{'entity': 'I-LOC', 'score': 0.97417194, 'index': 10, 'word': '##s', 'start': 43, 'end': 44}\n",
      "{'entity': 'B-LOC', 'score': 0.843311, 'index': 17, 'word': 'Peninsula', 'start': 70, 'end': 79}\n",
      "{'entity': 'I-LOC', 'score': 0.58908993, 'index': 18, 'word': '##r', 'start': 79, 'end': 80}\n",
      "{'entity': 'I-LOC', 'score': 0.96282834, 'index': 19, 'word': 'Range', 'start': 81, 'end': 86}\n",
      "{'entity': 'I-LOC', 'score': 0.95143247, 'index': 20, 'word': '##s', 'start': 86, 'end': 87}\n",
      "{'entity': 'B-LOC', 'score': 0.9655876, 'index': 41, 'word': 'Trans', 'start': 204, 'end': 209}\n",
      "{'entity': 'I-LOC', 'score': 0.9807289, 'index': 42, 'word': '##verse', 'start': 209, 'end': 214}\n",
      "{'entity': 'I-LOC', 'score': 0.9941742, 'index': 43, 'word': 'Range', 'start': 215, 'end': 220}\n",
      "{'entity': 'I-LOC', 'score': 0.9915692, 'index': 44, 'word': '##s', 'start': 220, 'end': 221}\n",
      "{'entity': 'B-LOC', 'score': 0.9992606, 'index': 47, 'word': 'Los', 'start': 230, 'end': 233}\n",
      "{'entity': 'I-LOC', 'score': 0.99864894, 'index': 48, 'word': 'Angeles', 'start': 234, 'end': 241}\n",
      "{'entity': 'I-LOC', 'score': 0.9989563, 'index': 49, 'word': 'Basin', 'start': 242, 'end': 247}\n",
      "{'entity': 'B-MISC', 'score': 0.99867463, 'index': 53, 'word': 'Mexican', 'start': 261, 'end': 268}\n",
      "{'entity': 'B-LOC', 'score': 0.99933237, 'index': 61, 'word': 'Baja', 'start': 301, 'end': 305}\n",
      "{'entity': 'I-LOC', 'score': 0.9989549, 'index': 62, 'word': 'California', 'start': 306, 'end': 316}\n",
      "{'entity': 'B-LOC', 'score': 0.99902487, 'index': 71, 'word': 'Colorado', 'start': 352, 'end': 360}\n",
      "{'entity': 'I-LOC', 'score': 0.998836, 'index': 72, 'word': 'Desert', 'start': 361, 'end': 367}\n",
      "{'entity': 'B-LOC', 'score': 0.9985482, 'index': 75, 'word': 'Gulf', 'start': 376, 'end': 380}\n",
      "{'entity': 'I-LOC', 'score': 0.99864656, 'index': 76, 'word': 'of', 'start': 381, 'end': 383}\n",
      "{'entity': 'I-LOC', 'score': 0.9978891, 'index': 77, 'word': 'California', 'start': 384, 'end': 394}\n",
      "{'entity': 'B-LOC', 'score': 0.8808255, 'index': 80, 'word': 'Peninsula', 'start': 401, 'end': 410}\n",
      "{'entity': 'I-LOC', 'score': 0.6972133, 'index': 81, 'word': '##r', 'start': 410, 'end': 411}\n",
      "{'entity': 'I-LOC', 'score': 0.9822557, 'index': 82, 'word': 'Range', 'start': 412, 'end': 417}\n",
      "{'entity': 'I-LOC', 'score': 0.92543566, 'index': 83, 'word': '##s', 'start': 417, 'end': 418}\n",
      "{'entity': 'B-MISC', 'score': 0.77189755, 'index': 86, 'word': 'Jurassic', 'start': 433, 'end': 441}\n",
      "{'entity': 'B-MISC', 'score': 0.91355157, 'index': 89, 'word': 'Cretaceous', 'start': 456, 'end': 466}\n",
      "{'entity': 'B-MISC', 'score': 0.99643123, 'index': 97, 'word': 'Nevada', 'start': 501, 'end': 507}\n",
      "{'entity': 'I-MISC', 'score': 0.87424856, 'index': 98, 'word': '##n', 'start': 507, 'end': 508}\n",
      "{'entity': 'B-MISC', 'score': 0.99594516, 'index': 104, 'word': 'Marine', 'start': 521, 'end': 527}\n",
      "{'entity': 'I-MISC', 'score': 0.836617, 'index': 105, 'word': 'Cretaceous', 'start': 528, 'end': 538}\n",
      "{'entity': 'B-MISC', 'score': 0.99577326, 'index': 114, 'word': 'post', 'start': 583, 'end': 587}\n",
      "{'entity': 'I-MISC', 'score': 0.5671749, 'index': 116, 'word': 'Cretaceous', 'start': 588, 'end': 598}\n"
     ]
    }
   ],
   "source": [
    "for n in ner_results:\n",
    "    print(n)"
   ]
  },
  {
   "cell_type": "code",
   "execution_count": 3,
   "id": "4973f07e-0fec-4409-8d01-14c5bc4bab6f",
   "metadata": {},
   "outputs": [
    {
     "name": "stdout",
     "output_type": "stream",
     "text": [
      "\n"
     ]
    }
   ],
   "source": [
    "print(\"\\uf0e4\")"
   ]
  },
  {
   "cell_type": "code",
   "execution_count": null,
   "id": "01234306-0b5e-4224-b96a-b033fb264c6b",
   "metadata": {},
   "outputs": [],
   "source": []
  }
 ],
 "metadata": {
  "kernelspec": {
   "display_name": "Python 3 (ipykernel)",
   "language": "python",
   "name": "python3"
  },
  "language_info": {
   "codemirror_mode": {
    "name": "ipython",
    "version": 3
   },
   "file_extension": ".py",
   "mimetype": "text/x-python",
   "name": "python",
   "nbconvert_exporter": "python",
   "pygments_lexer": "ipython3",
   "version": "3.8.0"
  }
 },
 "nbformat": 4,
 "nbformat_minor": 5
}
